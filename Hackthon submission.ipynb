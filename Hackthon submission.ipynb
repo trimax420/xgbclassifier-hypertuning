{
 "cells": [
  {
   "cell_type": "code",
   "execution_count": 1,
   "metadata": {},
   "outputs": [],
   "source": [
    "import pandas as pd\n",
    "import numpy as np"
   ]
  },
  {
   "attachments": {},
   "cell_type": "markdown",
   "metadata": {},
   "source": [
    "# importing our dataset"
   ]
  },
  {
   "cell_type": "code",
   "execution_count": 59,
   "metadata": {},
   "outputs": [],
   "source": [
    "data = pd.read_csv(r\"C:\\Users\\modha\\Desktop\\dataset\\train.csv\")"
   ]
  },
  {
   "attachments": {},
   "cell_type": "markdown",
   "metadata": {},
   "source": [
    "replacing null values with zeros and infinite values with the max values float32 can store"
   ]
  },
  {
   "cell_type": "code",
   "execution_count": 60,
   "metadata": {},
   "outputs": [],
   "source": [
    "data.replace([np.inf, -np.inf], np.finfo(np.float32).max, inplace=True)\n",
    "data.fillna(0, inplace=True)"
   ]
  },
  {
   "cell_type": "code",
   "execution_count": 76,
   "metadata": {},
   "outputs": [],
   "source": [
    "#data = data.fillna(0)"
   ]
  },
  {
   "cell_type": "code",
   "execution_count": 77,
   "metadata": {},
   "outputs": [
    {
     "data": {
      "text/html": [
       "<div>\n",
       "<style scoped>\n",
       "    .dataframe tbody tr th:only-of-type {\n",
       "        vertical-align: middle;\n",
       "    }\n",
       "\n",
       "    .dataframe tbody tr th {\n",
       "        vertical-align: top;\n",
       "    }\n",
       "\n",
       "    .dataframe thead th {\n",
       "        text-align: right;\n",
       "    }\n",
       "</style>\n",
       "<table border=\"1\" class=\"dataframe\">\n",
       "  <thead>\n",
       "    <tr style=\"text-align: right;\">\n",
       "      <th></th>\n",
       "      <th>var_1</th>\n",
       "      <th>var_2</th>\n",
       "      <th>var_3</th>\n",
       "      <th>var_4</th>\n",
       "      <th>var_5</th>\n",
       "      <th>var_6</th>\n",
       "      <th>var_7</th>\n",
       "      <th>var_8</th>\n",
       "      <th>var_9</th>\n",
       "      <th>var_10</th>\n",
       "      <th>...</th>\n",
       "      <th>var_5470</th>\n",
       "      <th>var_5471</th>\n",
       "      <th>var_5472</th>\n",
       "      <th>var_5473</th>\n",
       "      <th>var_5474</th>\n",
       "      <th>var_5475</th>\n",
       "      <th>var_5476</th>\n",
       "      <th>var_5477</th>\n",
       "      <th>var_5478</th>\n",
       "      <th>target</th>\n",
       "    </tr>\n",
       "  </thead>\n",
       "  <tbody>\n",
       "    <tr>\n",
       "      <th>count</th>\n",
       "      <td>22876.000000</td>\n",
       "      <td>22876.000000</td>\n",
       "      <td>22876.000000</td>\n",
       "      <td>22876.000000</td>\n",
       "      <td>22876.000000</td>\n",
       "      <td>22876.0</td>\n",
       "      <td>22876.000000</td>\n",
       "      <td>22876.000000</td>\n",
       "      <td>14250.000000</td>\n",
       "      <td>15220.000000</td>\n",
       "      <td>...</td>\n",
       "      <td>2183.000000</td>\n",
       "      <td>12.000000</td>\n",
       "      <td>6487.000000</td>\n",
       "      <td>656.000000</td>\n",
       "      <td>1104.000000</td>\n",
       "      <td>1026.000000</td>\n",
       "      <td>789.000000</td>\n",
       "      <td>7.000000</td>\n",
       "      <td>2570.000000</td>\n",
       "      <td>25000.000000</td>\n",
       "    </tr>\n",
       "    <tr>\n",
       "      <th>mean</th>\n",
       "      <td>0.047580</td>\n",
       "      <td>0.000962</td>\n",
       "      <td>0.000393</td>\n",
       "      <td>0.000437</td>\n",
       "      <td>0.000262</td>\n",
       "      <td>0.0</td>\n",
       "      <td>0.003251</td>\n",
       "      <td>0.004022</td>\n",
       "      <td>0.072058</td>\n",
       "      <td>0.109653</td>\n",
       "      <td>...</td>\n",
       "      <td>0.020516</td>\n",
       "      <td>0.285714</td>\n",
       "      <td>0.010233</td>\n",
       "      <td>0.021596</td>\n",
       "      <td>0.014560</td>\n",
       "      <td>0.026578</td>\n",
       "      <td>0.048247</td>\n",
       "      <td>0.178571</td>\n",
       "      <td>0.012042</td>\n",
       "      <td>0.146840</td>\n",
       "    </tr>\n",
       "    <tr>\n",
       "      <th>std</th>\n",
       "      <td>0.073311</td>\n",
       "      <td>0.017310</td>\n",
       "      <td>0.013400</td>\n",
       "      <td>0.020904</td>\n",
       "      <td>0.013221</td>\n",
       "      <td>0.0</td>\n",
       "      <td>0.028457</td>\n",
       "      <td>0.035609</td>\n",
       "      <td>0.102805</td>\n",
       "      <td>0.012076</td>\n",
       "      <td>...</td>\n",
       "      <td>0.047998</td>\n",
       "      <td>0.355189</td>\n",
       "      <td>0.025074</td>\n",
       "      <td>0.062241</td>\n",
       "      <td>0.041933</td>\n",
       "      <td>0.062204</td>\n",
       "      <td>0.099965</td>\n",
       "      <td>0.374007</td>\n",
       "      <td>0.032418</td>\n",
       "      <td>0.353953</td>\n",
       "    </tr>\n",
       "    <tr>\n",
       "      <th>min</th>\n",
       "      <td>0.000000</td>\n",
       "      <td>0.000000</td>\n",
       "      <td>0.000000</td>\n",
       "      <td>0.000000</td>\n",
       "      <td>0.000000</td>\n",
       "      <td>0.0</td>\n",
       "      <td>0.000000</td>\n",
       "      <td>0.000000</td>\n",
       "      <td>0.000000</td>\n",
       "      <td>0.000000</td>\n",
       "      <td>...</td>\n",
       "      <td>0.000000</td>\n",
       "      <td>0.000000</td>\n",
       "      <td>0.000000</td>\n",
       "      <td>0.000000</td>\n",
       "      <td>0.000000</td>\n",
       "      <td>0.000000</td>\n",
       "      <td>0.000000</td>\n",
       "      <td>0.000000</td>\n",
       "      <td>0.000000</td>\n",
       "      <td>0.000000</td>\n",
       "    </tr>\n",
       "    <tr>\n",
       "      <th>25%</th>\n",
       "      <td>0.000000</td>\n",
       "      <td>0.000000</td>\n",
       "      <td>0.000000</td>\n",
       "      <td>0.000000</td>\n",
       "      <td>0.000000</td>\n",
       "      <td>0.0</td>\n",
       "      <td>0.000000</td>\n",
       "      <td>0.000000</td>\n",
       "      <td>0.012048</td>\n",
       "      <td>0.106633</td>\n",
       "      <td>...</td>\n",
       "      <td>0.000000</td>\n",
       "      <td>0.000000</td>\n",
       "      <td>0.000000</td>\n",
       "      <td>0.000000</td>\n",
       "      <td>0.000000</td>\n",
       "      <td>0.000000</td>\n",
       "      <td>0.000000</td>\n",
       "      <td>0.000000</td>\n",
       "      <td>0.000000</td>\n",
       "      <td>0.000000</td>\n",
       "    </tr>\n",
       "    <tr>\n",
       "      <th>50%</th>\n",
       "      <td>0.015625</td>\n",
       "      <td>0.000000</td>\n",
       "      <td>0.000000</td>\n",
       "      <td>0.000000</td>\n",
       "      <td>0.000000</td>\n",
       "      <td>0.0</td>\n",
       "      <td>0.000000</td>\n",
       "      <td>0.000000</td>\n",
       "      <td>0.018072</td>\n",
       "      <td>0.106633</td>\n",
       "      <td>...</td>\n",
       "      <td>0.000000</td>\n",
       "      <td>0.142857</td>\n",
       "      <td>0.004167</td>\n",
       "      <td>0.000000</td>\n",
       "      <td>0.000000</td>\n",
       "      <td>0.000000</td>\n",
       "      <td>0.000000</td>\n",
       "      <td>0.000000</td>\n",
       "      <td>0.000000</td>\n",
       "      <td>0.000000</td>\n",
       "    </tr>\n",
       "    <tr>\n",
       "      <th>75%</th>\n",
       "      <td>0.062500</td>\n",
       "      <td>0.000000</td>\n",
       "      <td>0.000000</td>\n",
       "      <td>0.000000</td>\n",
       "      <td>0.000000</td>\n",
       "      <td>0.0</td>\n",
       "      <td>0.000000</td>\n",
       "      <td>0.000000</td>\n",
       "      <td>0.096386</td>\n",
       "      <td>0.107524</td>\n",
       "      <td>...</td>\n",
       "      <td>0.017857</td>\n",
       "      <td>0.464286</td>\n",
       "      <td>0.012500</td>\n",
       "      <td>0.033333</td>\n",
       "      <td>0.018519</td>\n",
       "      <td>0.038462</td>\n",
       "      <td>0.066667</td>\n",
       "      <td>0.125000</td>\n",
       "      <td>0.008621</td>\n",
       "      <td>0.000000</td>\n",
       "    </tr>\n",
       "    <tr>\n",
       "      <th>max</th>\n",
       "      <td>1.000000</td>\n",
       "      <td>1.000000</td>\n",
       "      <td>1.000000</td>\n",
       "      <td>1.000000</td>\n",
       "      <td>1.000000</td>\n",
       "      <td>0.0</td>\n",
       "      <td>1.000000</td>\n",
       "      <td>1.000000</td>\n",
       "      <td>1.000000</td>\n",
       "      <td>1.000000</td>\n",
       "      <td>...</td>\n",
       "      <td>1.000000</td>\n",
       "      <td>1.000000</td>\n",
       "      <td>1.000000</td>\n",
       "      <td>1.000000</td>\n",
       "      <td>1.000000</td>\n",
       "      <td>1.000000</td>\n",
       "      <td>1.000000</td>\n",
       "      <td>1.000000</td>\n",
       "      <td>1.000000</td>\n",
       "      <td>1.000000</td>\n",
       "    </tr>\n",
       "  </tbody>\n",
       "</table>\n",
       "<p>8 rows × 5479 columns</p>\n",
       "</div>"
      ],
      "text/plain": [
       "              var_1         var_2         var_3         var_4         var_5  \\\n",
       "count  22876.000000  22876.000000  22876.000000  22876.000000  22876.000000   \n",
       "mean       0.047580      0.000962      0.000393      0.000437      0.000262   \n",
       "std        0.073311      0.017310      0.013400      0.020904      0.013221   \n",
       "min        0.000000      0.000000      0.000000      0.000000      0.000000   \n",
       "25%        0.000000      0.000000      0.000000      0.000000      0.000000   \n",
       "50%        0.015625      0.000000      0.000000      0.000000      0.000000   \n",
       "75%        0.062500      0.000000      0.000000      0.000000      0.000000   \n",
       "max        1.000000      1.000000      1.000000      1.000000      1.000000   \n",
       "\n",
       "         var_6         var_7         var_8         var_9        var_10  ...  \\\n",
       "count  22876.0  22876.000000  22876.000000  14250.000000  15220.000000  ...   \n",
       "mean       0.0      0.003251      0.004022      0.072058      0.109653  ...   \n",
       "std        0.0      0.028457      0.035609      0.102805      0.012076  ...   \n",
       "min        0.0      0.000000      0.000000      0.000000      0.000000  ...   \n",
       "25%        0.0      0.000000      0.000000      0.012048      0.106633  ...   \n",
       "50%        0.0      0.000000      0.000000      0.018072      0.106633  ...   \n",
       "75%        0.0      0.000000      0.000000      0.096386      0.107524  ...   \n",
       "max        0.0      1.000000      1.000000      1.000000      1.000000  ...   \n",
       "\n",
       "          var_5470   var_5471     var_5472    var_5473     var_5474  \\\n",
       "count  2183.000000  12.000000  6487.000000  656.000000  1104.000000   \n",
       "mean      0.020516   0.285714     0.010233    0.021596     0.014560   \n",
       "std       0.047998   0.355189     0.025074    0.062241     0.041933   \n",
       "min       0.000000   0.000000     0.000000    0.000000     0.000000   \n",
       "25%       0.000000   0.000000     0.000000    0.000000     0.000000   \n",
       "50%       0.000000   0.142857     0.004167    0.000000     0.000000   \n",
       "75%       0.017857   0.464286     0.012500    0.033333     0.018519   \n",
       "max       1.000000   1.000000     1.000000    1.000000     1.000000   \n",
       "\n",
       "          var_5475    var_5476  var_5477     var_5478        target  \n",
       "count  1026.000000  789.000000  7.000000  2570.000000  25000.000000  \n",
       "mean      0.026578    0.048247  0.178571     0.012042      0.146840  \n",
       "std       0.062204    0.099965  0.374007     0.032418      0.353953  \n",
       "min       0.000000    0.000000  0.000000     0.000000      0.000000  \n",
       "25%       0.000000    0.000000  0.000000     0.000000      0.000000  \n",
       "50%       0.000000    0.000000  0.000000     0.000000      0.000000  \n",
       "75%       0.038462    0.066667  0.125000     0.008621      0.000000  \n",
       "max       1.000000    1.000000  1.000000     1.000000      1.000000  \n",
       "\n",
       "[8 rows x 5479 columns]"
      ]
     },
     "execution_count": 77,
     "metadata": {},
     "output_type": "execute_result"
    }
   ],
   "source": [
    "data.describe()"
   ]
  },
  {
   "attachments": {},
   "cell_type": "markdown",
   "metadata": {},
   "source": [
    "Splitting our data to X and Y values where y is our result and X will be our input and we will be splitting our data to 80:20 and for testing purposes we went with 90:10 to see the behaviour of the in the signs for increasing our auc_roc score"
   ]
  },
  {
   "cell_type": "code",
   "execution_count": 61,
   "metadata": {},
   "outputs": [],
   "source": [
    "import numpy as np\n",
    "X = data.drop(['id','target'],axis=1)\n",
    "y = data[['target']]"
   ]
  },
  {
   "cell_type": "code",
   "execution_count": 62,
   "metadata": {},
   "outputs": [],
   "source": [
    "from sklearn.model_selection import train_test_split\n",
    "X_train, X_test, y_train, y_test = train_test_split(X, y, test_size=0.1, random_state=42)"
   ]
  },
  {
   "cell_type": "code",
   "execution_count": 31,
   "metadata": {},
   "outputs": [
    {
     "name": "stdout",
     "output_type": "stream",
     "text": [
      "cuda_malloc_async\n"
     ]
    }
   ],
   "source": [
    "import os\n",
    "os.environ['TF_GPU_ALLOCATOR'] = 'cuda_malloc_async'\n",
    "print(os.getenv('TF_GPU_ALLOCATOR'))"
   ]
  },
  {
   "attachments": {},
   "cell_type": "markdown",
   "metadata": {},
   "source": [
    "import our test dataset and performing the same data cleaning process"
   ]
  },
  {
   "cell_type": "code",
   "execution_count": 71,
   "metadata": {},
   "outputs": [],
   "source": [
    "test = pd.read_csv(r\"C:\\Users\\modha\\Desktop\\dataset\\test.csv\")"
   ]
  },
  {
   "cell_type": "code",
   "execution_count": 72,
   "metadata": {},
   "outputs": [],
   "source": [
    "id = test[['id']]"
   ]
  },
  {
   "cell_type": "code",
   "execution_count": 73,
   "metadata": {},
   "outputs": [],
   "source": [
    "test = test.drop(['id'],axis = 1)"
   ]
  },
  {
   "cell_type": "code",
   "execution_count": 74,
   "metadata": {},
   "outputs": [],
   "source": [
    "test.replace([np.inf, -np.inf], np.finfo(np.float32).max, inplace=True)\n",
    "test.fillna(0, inplace=True)\n",
    "#test[test==np.inf]=np.nan"
   ]
  },
  {
   "cell_type": "code",
   "execution_count": 85,
   "metadata": {},
   "outputs": [],
   "source": [
    "#test = test.fillna(0)"
   ]
  },
  {
   "cell_type": "code",
   "execution_count": 75,
   "metadata": {},
   "outputs": [
    {
     "data": {
      "text/html": [
       "<div>\n",
       "<style scoped>\n",
       "    .dataframe tbody tr th:only-of-type {\n",
       "        vertical-align: middle;\n",
       "    }\n",
       "\n",
       "    .dataframe tbody tr th {\n",
       "        vertical-align: top;\n",
       "    }\n",
       "\n",
       "    .dataframe thead th {\n",
       "        text-align: right;\n",
       "    }\n",
       "</style>\n",
       "<table border=\"1\" class=\"dataframe\">\n",
       "  <thead>\n",
       "    <tr style=\"text-align: right;\">\n",
       "      <th></th>\n",
       "      <th>var_1</th>\n",
       "      <th>var_2</th>\n",
       "      <th>var_3</th>\n",
       "      <th>var_4</th>\n",
       "      <th>var_5</th>\n",
       "      <th>var_6</th>\n",
       "      <th>var_7</th>\n",
       "      <th>var_8</th>\n",
       "      <th>var_9</th>\n",
       "      <th>var_10</th>\n",
       "      <th>...</th>\n",
       "      <th>var_5469</th>\n",
       "      <th>var_5470</th>\n",
       "      <th>var_5471</th>\n",
       "      <th>var_5472</th>\n",
       "      <th>var_5473</th>\n",
       "      <th>var_5474</th>\n",
       "      <th>var_5475</th>\n",
       "      <th>var_5476</th>\n",
       "      <th>var_5477</th>\n",
       "      <th>var_5478</th>\n",
       "    </tr>\n",
       "  </thead>\n",
       "  <tbody>\n",
       "    <tr>\n",
       "      <th>0</th>\n",
       "      <td>0.015625</td>\n",
       "      <td>0.0</td>\n",
       "      <td>0.0</td>\n",
       "      <td>0.0</td>\n",
       "      <td>0.0</td>\n",
       "      <td>0.0</td>\n",
       "      <td>0.0</td>\n",
       "      <td>0.0</td>\n",
       "      <td>0.018072</td>\n",
       "      <td>0.128426</td>\n",
       "      <td>...</td>\n",
       "      <td>0.0</td>\n",
       "      <td>0.035714</td>\n",
       "      <td>0.0</td>\n",
       "      <td>0.0125</td>\n",
       "      <td>0.0</td>\n",
       "      <td>0.0</td>\n",
       "      <td>0.0</td>\n",
       "      <td>0.0</td>\n",
       "      <td>0.0</td>\n",
       "      <td>0.0</td>\n",
       "    </tr>\n",
       "    <tr>\n",
       "      <th>1</th>\n",
       "      <td>0.015625</td>\n",
       "      <td>0.0</td>\n",
       "      <td>0.0</td>\n",
       "      <td>0.0</td>\n",
       "      <td>0.0</td>\n",
       "      <td>0.0</td>\n",
       "      <td>0.0</td>\n",
       "      <td>0.0</td>\n",
       "      <td>0.018072</td>\n",
       "      <td>0.111644</td>\n",
       "      <td>...</td>\n",
       "      <td>0.0</td>\n",
       "      <td>0.000000</td>\n",
       "      <td>0.0</td>\n",
       "      <td>0.0000</td>\n",
       "      <td>0.0</td>\n",
       "      <td>0.0</td>\n",
       "      <td>0.0</td>\n",
       "      <td>0.0</td>\n",
       "      <td>0.0</td>\n",
       "      <td>0.0</td>\n",
       "    </tr>\n",
       "    <tr>\n",
       "      <th>2</th>\n",
       "      <td>0.015625</td>\n",
       "      <td>0.0</td>\n",
       "      <td>0.0</td>\n",
       "      <td>0.0</td>\n",
       "      <td>0.0</td>\n",
       "      <td>0.0</td>\n",
       "      <td>0.0</td>\n",
       "      <td>0.0</td>\n",
       "      <td>0.012048</td>\n",
       "      <td>0.106633</td>\n",
       "      <td>...</td>\n",
       "      <td>0.0</td>\n",
       "      <td>0.000000</td>\n",
       "      <td>0.0</td>\n",
       "      <td>0.0000</td>\n",
       "      <td>0.0</td>\n",
       "      <td>0.0</td>\n",
       "      <td>0.0</td>\n",
       "      <td>0.0</td>\n",
       "      <td>0.0</td>\n",
       "      <td>0.0</td>\n",
       "    </tr>\n",
       "    <tr>\n",
       "      <th>3</th>\n",
       "      <td>0.000000</td>\n",
       "      <td>0.0</td>\n",
       "      <td>0.0</td>\n",
       "      <td>0.0</td>\n",
       "      <td>0.0</td>\n",
       "      <td>0.0</td>\n",
       "      <td>0.0</td>\n",
       "      <td>0.0</td>\n",
       "      <td>0.000000</td>\n",
       "      <td>0.000000</td>\n",
       "      <td>...</td>\n",
       "      <td>0.0</td>\n",
       "      <td>0.000000</td>\n",
       "      <td>0.0</td>\n",
       "      <td>0.0000</td>\n",
       "      <td>0.0</td>\n",
       "      <td>0.0</td>\n",
       "      <td>0.0</td>\n",
       "      <td>0.0</td>\n",
       "      <td>0.0</td>\n",
       "      <td>0.0</td>\n",
       "    </tr>\n",
       "    <tr>\n",
       "      <th>4</th>\n",
       "      <td>0.046875</td>\n",
       "      <td>0.0</td>\n",
       "      <td>0.0</td>\n",
       "      <td>0.0</td>\n",
       "      <td>0.0</td>\n",
       "      <td>0.0</td>\n",
       "      <td>0.0</td>\n",
       "      <td>0.0</td>\n",
       "      <td>0.000000</td>\n",
       "      <td>0.106633</td>\n",
       "      <td>...</td>\n",
       "      <td>0.0</td>\n",
       "      <td>0.000000</td>\n",
       "      <td>0.0</td>\n",
       "      <td>0.0000</td>\n",
       "      <td>0.0</td>\n",
       "      <td>0.0</td>\n",
       "      <td>0.0</td>\n",
       "      <td>0.0</td>\n",
       "      <td>0.0</td>\n",
       "      <td>0.0</td>\n",
       "    </tr>\n",
       "  </tbody>\n",
       "</table>\n",
       "<p>5 rows × 5478 columns</p>\n",
       "</div>"
      ],
      "text/plain": [
       "      var_1  var_2  var_3  var_4  var_5  var_6  var_7  var_8     var_9  \\\n",
       "0  0.015625    0.0    0.0    0.0    0.0    0.0    0.0    0.0  0.018072   \n",
       "1  0.015625    0.0    0.0    0.0    0.0    0.0    0.0    0.0  0.018072   \n",
       "2  0.015625    0.0    0.0    0.0    0.0    0.0    0.0    0.0  0.012048   \n",
       "3  0.000000    0.0    0.0    0.0    0.0    0.0    0.0    0.0  0.000000   \n",
       "4  0.046875    0.0    0.0    0.0    0.0    0.0    0.0    0.0  0.000000   \n",
       "\n",
       "     var_10  ...  var_5469  var_5470  var_5471  var_5472  var_5473  var_5474  \\\n",
       "0  0.128426  ...       0.0  0.035714       0.0    0.0125       0.0       0.0   \n",
       "1  0.111644  ...       0.0  0.000000       0.0    0.0000       0.0       0.0   \n",
       "2  0.106633  ...       0.0  0.000000       0.0    0.0000       0.0       0.0   \n",
       "3  0.000000  ...       0.0  0.000000       0.0    0.0000       0.0       0.0   \n",
       "4  0.106633  ...       0.0  0.000000       0.0    0.0000       0.0       0.0   \n",
       "\n",
       "   var_5475  var_5476  var_5477  var_5478  \n",
       "0       0.0       0.0       0.0       0.0  \n",
       "1       0.0       0.0       0.0       0.0  \n",
       "2       0.0       0.0       0.0       0.0  \n",
       "3       0.0       0.0       0.0       0.0  \n",
       "4       0.0       0.0       0.0       0.0  \n",
       "\n",
       "[5 rows x 5478 columns]"
      ]
     },
     "execution_count": 75,
     "metadata": {},
     "output_type": "execute_result"
    }
   ],
   "source": [
    "test.head()"
   ]
  },
  {
   "attachments": {},
   "cell_type": "markdown",
   "metadata": {},
   "source": [
    "# model building "
   ]
  },
  {
   "cell_type": "code",
   "execution_count": 87,
   "metadata": {},
   "outputs": [],
   "source": [
    "from xgboost import XGBClassifier\n",
    "from sklearn import metrics"
   ]
  },
  {
   "attachments": {},
   "cell_type": "markdown",
   "metadata": {},
   "source": [
    "setting a function to trail run multiple parameters for getting the best model"
   ]
  },
  {
   "cell_type": "code",
   "execution_count": 14,
   "metadata": {},
   "outputs": [],
   "source": [
    "def objective(trial):\n",
    "    from xgboost import XGBClassifier\n",
    "    from sklearn import metrics\n",
    "    param = {\n",
    "        'max_depth': trial.suggest_int('max_depth', 2, 8),\n",
    "        'subsample': trial.suggest_discrete_uniform('subsample', 0.6, 1.0, 0.05),\n",
    "        'n_estimators': trial.suggest_int('n_estimators', 1000, 10000, 100),\n",
    "        'eta': trial.suggest_discrete_uniform('eta', 0.01, 0.1, 0.01),\n",
    "        'reg_alpha': trial.suggest_int('reg_alpha', 1, 50),\n",
    "        'reg_lambda': trial.suggest_int('reg_lambda', 5, 100),\n",
    "        'min_child_weight': trial.suggest_int('min_child_weight', 2, 30),\n",
    "        \"colsample_bytree\": trial.suggest_float(\"colsample_bytree\", 0.1, 1.0),\n",
    "    }\n",
    "   \n",
    "    model = XGBClassifier(   tree_method='gpu_hist', \n",
    "                             gpu_id=0, \n",
    "                             predictor=\"gpu_predictor\",\n",
    "                             **param )  \n",
    "    model.fit(X_train, y_train,eval_set=[(X_test,y_test)],verbose=False)\n",
    "    preds = model.predict_proba(X_test)\n",
    "    preds = pd.DataFrame(preds,columns=[\"0\",\"predicted_probability\"])\n",
    "    preds = preds.drop([\"0\"],axis=1)\n",
    "    score = metrics.roc_auc_score(y_test,preds)\n",
    "    return score"
   ]
  },
  {
   "attachments": {},
   "cell_type": "markdown",
   "metadata": {},
   "source": [
    "for example purposes we have run it for 3 cycles but we can run for multiple time if we want to get more cases with higher roc values"
   ]
  },
  {
   "cell_type": "code",
   "execution_count": 15,
   "metadata": {},
   "outputs": [],
   "source": [
    "import optuna"
   ]
  },
  {
   "cell_type": "code",
   "execution_count": 16,
   "metadata": {},
   "outputs": [
    {
     "name": "stderr",
     "output_type": "stream",
     "text": [
      "\u001b[32m[I 2023-04-09 21:30:27,803]\u001b[0m A new study created in memory with name: no-name-b372b310-4d20-4422-8fbf-db969460d29e\u001b[0m\n",
      "C:\\Users\\modha\\AppData\\Local\\Temp\\ipykernel_16912\\4040317666.py:6: FutureWarning: suggest_discrete_uniform has been deprecated in v3.0.0. This feature will be removed in v6.0.0. See https://github.com/optuna/optuna/releases/tag/v3.0.0. Use :func:`~optuna.trial.Trial.suggest_float` instead.\n",
      "  'subsample': trial.suggest_discrete_uniform('subsample', 0.6, 1.0, 0.05),\n",
      "C:\\Users\\modha\\AppData\\Local\\Temp\\ipykernel_16912\\4040317666.py:8: FutureWarning: suggest_discrete_uniform has been deprecated in v3.0.0. This feature will be removed in v6.0.0. See https://github.com/optuna/optuna/releases/tag/v3.0.0. Use :func:`~optuna.trial.Trial.suggest_float` instead.\n",
      "  'eta': trial.suggest_discrete_uniform('eta', 0.01, 0.1, 0.01),\n",
      "\u001b[32m[I 2023-04-09 21:36:52,824]\u001b[0m Trial 0 finished with value: 0.7261628285754799 and parameters: {'max_depth': 5, 'subsample': 0.65, 'n_estimators': 6600, 'eta': 0.03, 'reg_alpha': 14, 'reg_lambda': 42, 'min_child_weight': 25, 'colsample_bytree': 0.15395526087427394}. Best is trial 0 with value: 0.7261628285754799.\u001b[0m\n",
      "C:\\Users\\modha\\AppData\\Local\\Temp\\ipykernel_16912\\4040317666.py:6: FutureWarning: suggest_discrete_uniform has been deprecated in v3.0.0. This feature will be removed in v6.0.0. See https://github.com/optuna/optuna/releases/tag/v3.0.0. Use :func:`~optuna.trial.Trial.suggest_float` instead.\n",
      "  'subsample': trial.suggest_discrete_uniform('subsample', 0.6, 1.0, 0.05),\n",
      "C:\\Users\\modha\\AppData\\Local\\Temp\\ipykernel_16912\\4040317666.py:8: FutureWarning: suggest_discrete_uniform has been deprecated in v3.0.0. This feature will be removed in v6.0.0. See https://github.com/optuna/optuna/releases/tag/v3.0.0. Use :func:`~optuna.trial.Trial.suggest_float` instead.\n",
      "  'eta': trial.suggest_discrete_uniform('eta', 0.01, 0.1, 0.01),\n",
      "\u001b[32m[I 2023-04-09 21:50:37,169]\u001b[0m Trial 1 finished with value: 0.7266920112262092 and parameters: {'max_depth': 7, 'subsample': 0.75, 'n_estimators': 8200, 'eta': 0.02, 'reg_alpha': 10, 'reg_lambda': 67, 'min_child_weight': 2, 'colsample_bytree': 0.992475904745457}. Best is trial 1 with value: 0.7266920112262092.\u001b[0m\n",
      "C:\\Users\\modha\\AppData\\Local\\Temp\\ipykernel_16912\\4040317666.py:6: FutureWarning: suggest_discrete_uniform has been deprecated in v3.0.0. This feature will be removed in v6.0.0. See https://github.com/optuna/optuna/releases/tag/v3.0.0. Use :func:`~optuna.trial.Trial.suggest_float` instead.\n",
      "  'subsample': trial.suggest_discrete_uniform('subsample', 0.6, 1.0, 0.05),\n",
      "C:\\Users\\modha\\AppData\\Local\\Temp\\ipykernel_16912\\4040317666.py:8: FutureWarning: suggest_discrete_uniform has been deprecated in v3.0.0. This feature will be removed in v6.0.0. See https://github.com/optuna/optuna/releases/tag/v3.0.0. Use :func:`~optuna.trial.Trial.suggest_float` instead.\n",
      "  'eta': trial.suggest_discrete_uniform('eta', 0.01, 0.1, 0.01),\n",
      "\u001b[32m[I 2023-04-09 21:58:37,203]\u001b[0m Trial 2 finished with value: 0.7261554832520238 and parameters: {'max_depth': 8, 'subsample': 0.6, 'n_estimators': 7300, 'eta': 0.02, 'reg_alpha': 19, 'reg_lambda': 15, 'min_child_weight': 6, 'colsample_bytree': 0.3003829329828242}. Best is trial 1 with value: 0.7266920112262092.\u001b[0m\n"
     ]
    },
    {
     "name": "stdout",
     "output_type": "stream",
     "text": [
      "Number of finished trials: 3\n",
      "Best trial: {'max_depth': 7, 'subsample': 0.75, 'n_estimators': 8200, 'eta': 0.02, 'reg_alpha': 10, 'reg_lambda': 67, 'min_child_weight': 2, 'colsample_bytree': 0.992475904745457}\n"
     ]
    }
   ],
   "source": [
    "study = optuna.create_study(direction='maximize')\n",
    "study.optimize(objective, n_trials=3)\n",
    "#study.optimize(objective, n_trials=50)\n",
    "print('Number of finished trials:', len(study.trials))\n",
    "print('Best trial:', study.best_trial.params)"
   ]
  },
  {
   "attachments": {},
   "cell_type": "markdown",
   "metadata": {},
   "source": [
    "# running the final model with the best parameters"
   ]
  },
  {
   "cell_type": "code",
   "execution_count": 76,
   "metadata": {},
   "outputs": [
    {
     "data": {
      "text/plain": [
       "XGBClassifier(base_score=None, booster=None, callbacks=None,\n",
       "              colsample_bylevel=None, colsample_bynode=None,\n",
       "              colsample_bytree=0.30734000939110795, early_stopping_rounds=None,\n",
       "              enable_categorical=False, eta=0.01, eval_metric=None,\n",
       "              feature_types=None, gamma=None, gpu_id=0, grow_policy=None,\n",
       "              importance_type=None, interaction_constraints=None,\n",
       "              learning_rate=None, max_bin=None, max_cat_threshold=None,\n",
       "              max_cat_to_onehot=None, max_delta_step=None, max_depth=5,\n",
       "              max_leaves=None, min_child_weight=7, missing=nan,\n",
       "              monotone_constraints=None, n_estimators=4000, n_jobs=None,\n",
       "              num_parallel_tree=None, predictor='gpu_predictor', ...)"
      ]
     },
     "execution_count": 76,
     "metadata": {},
     "output_type": "execute_result"
    }
   ],
   "source": [
    "from xgboost import XGBClassifier\n",
    "from sklearn import metrics\n",
    "\n",
    "model = XGBClassifier(       tree_method='gpu_hist', \n",
    "                             gpu_id=0, \n",
    "                             predictor=\"gpu_predictor\",\n",
    "                             max_depth = 5,\n",
    "                             subsample = 0.7,\n",
    "                             n_estimators = 4000,\n",
    "                             eta = 0.01,\n",
    "                             reg_alpha = 17,\n",
    "                             reg_lambda = 90,\n",
    "                             min_child_weight = 7,\n",
    "                             colsample_bytree = 0.30734000939110795)  \n",
    "\n",
    "model.fit(X, y,verbose=False)"
   ]
  },
  {
   "attachments": {},
   "cell_type": "markdown",
   "metadata": {},
   "source": [
    "Generating predicted values and predicted probabilities at the same time"
   ]
  },
  {
   "cell_type": "code",
   "execution_count": 79,
   "metadata": {},
   "outputs": [],
   "source": [
    "pred = model.predict(test)\n",
    "pred = pd.DataFrame(pred,columns=[\"predicted\"])"
   ]
  },
  {
   "cell_type": "code",
   "execution_count": 80,
   "metadata": {},
   "outputs": [],
   "source": [
    "pred_proba = model.predict_proba(test)"
   ]
  },
  {
   "cell_type": "code",
   "execution_count": 81,
   "metadata": {},
   "outputs": [],
   "source": [
    "pred_proba = pd.DataFrame(pred_proba,columns=[\"0\",\"predicted_probability\"])\n",
    "pred_proba = pred_proba.drop([\"0\"],axis=1)\n",
    "#score = metrics.roc_auc_score(y_test,pred_proba)\n",
    "#score"
   ]
  },
  {
   "cell_type": "code",
   "execution_count": 41,
   "metadata": {},
   "outputs": [],
   "source": [
    "predicted = pd.DataFrame(pred,columns=['predicted'])"
   ]
  },
  {
   "cell_type": "code",
   "execution_count": 42,
   "metadata": {},
   "outputs": [],
   "source": [
    "pred_probability = pd.DataFrame(pred,columns=['predicted_probability'])"
   ]
  },
  {
   "attachments": {},
   "cell_type": "markdown",
   "metadata": {},
   "source": [
    "concating the data and also exporting into dataset to get the model evaluated for test purposes"
   ]
  },
  {
   "cell_type": "code",
   "execution_count": 85,
   "metadata": {},
   "outputs": [],
   "source": [
    "df = pd.concat([id.reset_index(drop=True),pred.reset_index(drop=True),pred_proba.reset_index(drop=True)], axis=1)"
   ]
  },
  {
   "cell_type": "code",
   "execution_count": 86,
   "metadata": {},
   "outputs": [
    {
     "data": {
      "text/html": [
       "<div>\n",
       "<style scoped>\n",
       "    .dataframe tbody tr th:only-of-type {\n",
       "        vertical-align: middle;\n",
       "    }\n",
       "\n",
       "    .dataframe tbody tr th {\n",
       "        vertical-align: top;\n",
       "    }\n",
       "\n",
       "    .dataframe thead th {\n",
       "        text-align: right;\n",
       "    }\n",
       "</style>\n",
       "<table border=\"1\" class=\"dataframe\">\n",
       "  <thead>\n",
       "    <tr style=\"text-align: right;\">\n",
       "      <th></th>\n",
       "      <th>id</th>\n",
       "      <th>predicted</th>\n",
       "      <th>predicted_probability</th>\n",
       "    </tr>\n",
       "  </thead>\n",
       "  <tbody>\n",
       "    <tr>\n",
       "      <th>0</th>\n",
       "      <td>id_1</td>\n",
       "      <td>0</td>\n",
       "      <td>0.312545</td>\n",
       "    </tr>\n",
       "    <tr>\n",
       "      <th>1</th>\n",
       "      <td>id_2</td>\n",
       "      <td>0</td>\n",
       "      <td>0.074852</td>\n",
       "    </tr>\n",
       "    <tr>\n",
       "      <th>2</th>\n",
       "      <td>id_3</td>\n",
       "      <td>0</td>\n",
       "      <td>0.382056</td>\n",
       "    </tr>\n",
       "    <tr>\n",
       "      <th>3</th>\n",
       "      <td>id_4</td>\n",
       "      <td>0</td>\n",
       "      <td>0.151442</td>\n",
       "    </tr>\n",
       "    <tr>\n",
       "      <th>4</th>\n",
       "      <td>id_5</td>\n",
       "      <td>0</td>\n",
       "      <td>0.009001</td>\n",
       "    </tr>\n",
       "  </tbody>\n",
       "</table>\n",
       "</div>"
      ],
      "text/plain": [
       "     id  predicted  predicted_probability\n",
       "0  id_1          0               0.312545\n",
       "1  id_2          0               0.074852\n",
       "2  id_3          0               0.382056\n",
       "3  id_4          0               0.151442\n",
       "4  id_5          0               0.009001"
      ]
     },
     "execution_count": 86,
     "metadata": {},
     "output_type": "execute_result"
    }
   ],
   "source": [
    "df.head()"
   ]
  },
  {
   "cell_type": "code",
   "execution_count": 88,
   "metadata": {},
   "outputs": [],
   "source": [
    "df.to_csv(\"sample.csv\", index =  false)"
   ]
  },
  {
   "cell_type": "code",
   "execution_count": null,
   "metadata": {},
   "outputs": [],
   "source": []
  }
 ],
 "metadata": {
  "kernelspec": {
   "display_name": "base",
   "language": "python",
   "name": "python3"
  },
  "language_info": {
   "codemirror_mode": {
    "name": "ipython",
    "version": 3
   },
   "file_extension": ".py",
   "mimetype": "text/x-python",
   "name": "python",
   "nbconvert_exporter": "python",
   "pygments_lexer": "ipython3",
   "version": "3.9.13"
  },
  "orig_nbformat": 4,
  "vscode": {
   "interpreter": {
    "hash": "983c2bc1b54be32a97b73bba9bd22781d7266eec238f89a0f42b561062211940"
   }
  }
 },
 "nbformat": 4,
 "nbformat_minor": 2
}
